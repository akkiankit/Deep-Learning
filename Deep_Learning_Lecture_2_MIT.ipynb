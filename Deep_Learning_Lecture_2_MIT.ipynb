{
  "nbformat": 4,
  "nbformat_minor": 0,
  "metadata": {
    "colab": {
      "provenance": [],
      "authorship_tag": "ABX9TyMsJ8yXfDtClr8GXNMfX63B",
      "include_colab_link": true
    },
    "kernelspec": {
      "name": "python3",
      "display_name": "Python 3"
    },
    "language_info": {
      "name": "python"
    }
  },
  "cells": [
    {
      "cell_type": "markdown",
      "metadata": {
        "id": "view-in-github",
        "colab_type": "text"
      },
      "source": [
        "<a href=\"https://colab.research.google.com/github/akkiankit/Deep-Learning/blob/master/Deep_Learning_Lecture_2_MIT.ipynb\" target=\"_parent\"><img src=\"https://colab.research.google.com/assets/colab-badge.svg\" alt=\"Open In Colab\"/></a>"
      ]
    },
    {
      "cell_type": "markdown",
      "source": [
        "**Welcome to Deep Learning Lecture 2**"
      ],
      "metadata": {
        "id": "ec8k0U1KYx8c"
      }
    },
    {
      "cell_type": "code",
      "source": [],
      "metadata": {
        "id": "f6dp-K85YkQx"
      },
      "execution_count": 3,
      "outputs": []
    },
    {
      "cell_type": "code",
      "source": [],
      "metadata": {
        "id": "g7qyQDLZYqmW"
      },
      "execution_count": null,
      "outputs": []
    }
  ]
}